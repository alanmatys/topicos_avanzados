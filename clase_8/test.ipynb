{
 "cells": [
  {
   "cell_type": "markdown",
   "metadata": {},
   "source": [
    "Ejercicio: Simular considerando dos bandits de tipo Bernoulli uno con probabilidad 0.5 y el otro 0.6, con m=10.\n",
    "\n",
    "a) Mostrar el valor de Regret estimado en n=100 (R100 ) realizando 1000 replicas\n",
    "\n",
    "b) Idem a) pero para n={100,200,300,400,500, …, 1000}. Graficar el Rn vs n y decidir si el comportamiento sublineal. ¿Es un buen algoritmo?"
   ]
  },
  {
   "cell_type": "code",
   "execution_count": 25,
   "metadata": {},
   "outputs": [],
   "source": [
    "import numpy as np\n",
    "\n",
    "#rep = 1000\n",
    "\n",
    "def calculate_regret(n):\n",
    "    regrets = []\n",
    "    for i in range(1,n+1):\n",
    "        bandit_1 = np.random.binomial(p=0.5,size=i,n=1)\n",
    "        bandit_2 = np.random.binomial(p=0.6,size=i,n=1)\n",
    "        result_1 = np.mean(bandit_1)\n",
    "        result_2 = np.mean(bandit_2)\n",
    "        regrets.append(i*0.6 - max([result_1,result_2]))\n",
    "    \n",
    "    return regrets[-1]"
   ]
  },
  {
   "cell_type": "code",
   "execution_count": 26,
   "metadata": {},
   "outputs": [
    {
     "name": "stdout",
     "output_type": "stream",
     "text": [
      "Resultados para 100 59.36\n",
      "Resultados para 200 119.42\n",
      "Resultados para 300 179.4\n",
      "Resultados para 400 239.39\n",
      "Resultados para 500 299.396\n",
      "Resultados para 600 359.3983333333333\n",
      "Resultados para 700 419.43\n",
      "Resultados para 800 479.3975\n",
      "Resultados para 900 539.3722222222223\n",
      "Resultados para 1000 599.407\n"
     ]
    }
   ],
   "source": [
    "for i in range(100,1001,100):\n",
    "    print(f'Resultados para {i}',calculate_regret(i))"
   ]
  }
 ],
 "metadata": {
  "kernelspec": {
   "display_name": "network",
   "language": "python",
   "name": "python3"
  },
  "language_info": {
   "codemirror_mode": {
    "name": "ipython",
    "version": 3
   },
   "file_extension": ".py",
   "mimetype": "text/x-python",
   "name": "python",
   "nbconvert_exporter": "python",
   "pygments_lexer": "ipython3",
   "version": "3.11.3"
  },
  "orig_nbformat": 4
 },
 "nbformat": 4,
 "nbformat_minor": 2
}
